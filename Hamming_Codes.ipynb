{
  "nbformat": 4,
  "nbformat_minor": 0,
  "metadata": {
    "colab": {
      "name": "Hamming Codes",
      "provenance": [],
      "collapsed_sections": []
    },
    "kernelspec": {
      "name": "python3",
      "display_name": "Python 3"
    },
    "language_info": {
      "name": "python"
    }
  },
  "cells": [
    {
      "cell_type": "markdown",
      "metadata": {
        "id": "4mend7uD7qcl"
      },
      "source": [
        "# Simple error detection for 1 bit flips in a message"
      ]
    },
    {
      "cell_type": "markdown",
      "metadata": {
        "id": "pr4JsBVQjAH8"
      },
      "source": [
        "Hamming codes are methods for error-detection and error-correction of a transmitted piece of information. All information(text, images, audio, video, etc.) is ultimately processed by the computer as a stream of 1's and 0's, and it's common for errors to creep in when transmitting a piece of data/information across a noisy channel. Thus, methods like Hamming Codes were invented to counteract this. This is why a scratched DVD, if not completely damaged, can still be played with decent quality. Although Hamming codes, first invented by Richard Hamming in the early 50s, are now an outdated method, it has historical significance in that it served as the foundation for modern error correction methods modern systems use. I found Hamming interesting enough to want to try to implement them in code in order to understand it better. \n",
        "This notebook isn't meant to be an explanation or tutorial of Hamming codes, so if you're interested in learning more about them, 3Blue1Brown gives a great overview of it: https://www.youtube.com/watch?v=X8jsijhllIA . \n"
      ]
    },
    {
      "cell_type": "code",
      "metadata": {
        "id": "34MDPdjFtj_y"
      },
      "source": [
        "import numpy as np\n",
        "from functools import reduce\n",
        "import math"
      ],
      "execution_count": 221,
      "outputs": []
    },
    {
      "cell_type": "code",
      "metadata": {
        "id": "O2XTj15VDaQf"
      },
      "source": [
        "class Message:\n",
        "  PARITY_IDX = [1,2,4,8,16,32] # indices in the message block reserved for parity\n",
        "\n",
        "  def __init__(self, msg = None, msg_len=16):\n",
        "    self.message = msg\n",
        "    if len(self.message) != msg_len:    \n",
        "      # by default set 0th bit to 0. As of right now, because this is a (15,11) Hamming Code implementation, the zeroth bit is essentially ignored.\n",
        "      self.message = np.insert(self.message,0,0)\n",
        "    self.msg_len = len(self.message)\n",
        "    self.dim = int(math.sqrt(len(self.message)))\n",
        "    self.block = self.message.reshape(self.dim, self.dim) # the message block in matrix form (for easier visualization) \n",
        "    self.one_idx = [x for x,y in enumerate(self.message) if y] # list of(index, bit-value) tuples where the bit-value is one\n",
        "\n",
        "\n",
        "  def set_parity(self):\n",
        "    \"\"\"\n",
        "    Flips the parity bits that need to be flipped to reach parity.\n",
        "    \"\"\"\n",
        "    pc = self.parity_check()\n",
        "    if pc == 0:\n",
        "      return \"Already in parity!\"\n",
        "    idx = [self.PARITY_IDX[i] for i in pc] # indexes of parity bits that need to be flipped\n",
        "    self.flip_bits(idx)\n",
        "    self.one_idx = [x for x,y in enumerate(self.message) if y]\n",
        "\n",
        "\n",
        "  def parity_check(self):\n",
        "    \"\"\"\n",
        "    Performs parity check. If message in full parity, return True. \n",
        "    Else returns index of parity bits which need to be flipped.\n",
        "    \"\"\"\n",
        "    xor_msg = xor(self.get_ones())\n",
        "    if xor_msg == 0:\n",
        "      return xor_msg\n",
        "    else:\n",
        "      xor_msg = bin(xor_msg)[:1:-1]\n",
        "      return [x for x,y in enumerate(xor_msg) if y == '1']  \n",
        "  \n",
        "\n",
        "  def ready_to_send(self):\n",
        "    \"\"\"\n",
        "    Returns if the message block is ready to be sent to Receiver\n",
        "    \"\"\"\n",
        "    if self.parity_check() == 0:\n",
        "      return True\n",
        "    else:\n",
        "      return \"Message is not in parity\"\n",
        "\n",
        "\n",
        "  def flip_bits(self, idx):\n",
        "    \"\"\"\n",
        "    Takes in a list of indexes and flips the bit located at each index\n",
        "    \"\"\"\n",
        "    for i in idx:\n",
        "      self.message[i] = 1- self.message[i]\n",
        "    self.one_idx = self.get_ones() # update the 1 indices\n",
        "\n",
        "\n",
        "  def get_ones(self):\n",
        "    \"\"\"Returns a list with the indexes of slots with a 1\"\"\"\n",
        "    ones = [x for x,y in enumerate(self.message) if y]\n",
        "    self.one_idx = ones\n",
        "    return ones\n",
        "\n",
        "\n",
        "  def __repr__(self):\n",
        "      return str(self.message)\n",
        "  \n",
        "  def __eq__(self, other):\n",
        "    return np.array_equal(self.message, other.message)\n"
      ],
      "execution_count": 268,
      "outputs": []
    },
    {
      "cell_type": "code",
      "metadata": {
        "id": "0kLaC9YFNEKN"
      },
      "source": [
        "class Receiver:\n",
        "  def __init__(self):\n",
        "    self.received_msg = None  \n",
        "    #self.test = Message()\n",
        "\n",
        "\n",
        "  def receive_message(self, message: Message):\n",
        "    \"\"\"\n",
        "    Takes in a message sent from the Sender class\n",
        "    \"\"\"\n",
        "    self.received_msg = message\n",
        "  \n",
        "\n",
        "  def scan(self, msg: Message):\n",
        "    \"\"\"\n",
        "    Performs parity check on the received message and returns the index of the error, if there are any. \n",
        "    \"\"\"\n",
        "    error = xor(msg.get_ones())\n",
        "    if error == 0:\n",
        "      return \"No errors found\"\n",
        "    return f\"Error found at index {error}\"\n",
        "\n",
        "\n",
        "  def correct_error(self, msg: Message):\n",
        "    error = xor(msg.get_ones())\n",
        "    if error == 0:\n",
        "      return \"No errors detected\"\n",
        "    msg.flip_bits([error])\n",
        "    self.received_message = msg.block\n",
        "    return msg\n",
        "  \n",
        "  "
      ],
      "execution_count": 159,
      "outputs": []
    },
    {
      "cell_type": "code",
      "metadata": {
        "id": "fsp7UvIqy3wL"
      },
      "source": [
        "class Sender:\n",
        "  def __init__(self):\n",
        "    pass\n",
        "\n",
        "  def send_message(self, msg: Message, receiver: Receiver, distort=False):\n",
        "    \"\"\"\n",
        "    Sends the message to Receiver. If distort is set to true, a 1-bit error will be introduced into the message\n",
        "    the receiver receives. \n",
        "    \"\"\"\n",
        "    if not isinstance(msg, Message):\n",
        "      msg = Message(msg)\n",
        "    self.sent_msgs = msg\n",
        "    if distort is True:\n",
        "      msg = msg.distort_msg(random=True)\n",
        "  \n",
        "    receiver.receive_message(msg)\n",
        "  \n",
        "  def set_parity(self, msg:Message):\n",
        "    msg.set_parity()\n",
        "    \n"
      ],
      "execution_count": 4,
      "outputs": []
    },
    {
      "cell_type": "code",
      "metadata": {
        "id": "Wx6ssOoEQXuL"
      },
      "source": [
        "def distort_msg(msg: Message, idx = 5, random=False) -> Message:\n",
        "  \"\"\"\n",
        "  Intentionally introduces a 1-bit error in the message by flipping the bit in the message's idx-th index. \n",
        "  If random set to True, a randomly chosen (except for the zero-th) bit will be flipped. \n",
        "  \"\"\"\n",
        "  if random is True:\n",
        "    idx = np.random.randint(1, msg.msg_len)\n",
        "\n",
        "  error_msg = Message(np.copy(msg.message), msg_len=len(msg.message))\n",
        "  # error_msg.message[idx] = 1 - error_msg.message[idx]\n",
        "  error_msg.flip_bits([idx])\n",
        "  return error_msg\n",
        "  \n",
        "\n",
        "def xor(lst):\n",
        "  \"\"\"returns the xor of all elements of the list x\"\"\"\n",
        "  return reduce(lambda x,y : x^y, lst)\n"
      ],
      "execution_count": 266,
      "outputs": []
    },
    {
      "cell_type": "markdown",
      "metadata": {
        "id": "oL6O8gtl0P3y"
      },
      "source": [
        "\n",
        "\n",
        "# Let's test it out!"
      ]
    },
    {
      "cell_type": "code",
      "metadata": {
        "id": "lpx2etrL1Gx_"
      },
      "source": [
        "# Initialize Bob, the Sender of the message, and Alice, the receiver of the message\n",
        "\n",
        "Bob=Sender()\n",
        "Alice=Receiver()"
      ],
      "execution_count": 231,
      "outputs": []
    },
    {
      "cell_type": "code",
      "metadata": {
        "colab": {
          "base_uri": "https://localhost:8080/"
        },
        "id": "uG_hEfUJ02Lb",
        "outputId": "85ab6c29-dd25-4e24-971b-edd0e1f73af5"
      },
      "source": [
        "# Generate random 16-bit message for Bob to send to Alice (in practice, this could be anything that can be represented as a bitstring ie text, image, audio, etc.)\n",
        "# Technically, only 11 of the 16 bits are meant for the actual message, and the other 5 bits are reserved for parity. \n",
        "# But for the purposes of this implementation, we're going to treat the entire 16-bit block as the message Bob intends to send to Alice.\n",
        "\n",
        "bob_msg = np.random.randint(0,2,15)\n",
        "bob_msg = Message(bob_msg)\n",
        "\n",
        "# View the message\n",
        "bob_msg"
      ],
      "execution_count": 234,
      "outputs": [
        {
          "output_type": "execute_result",
          "data": {
            "text/plain": [
              "[0 1 1 1 0 1 0 0 0 0 1 0 1 1 0 1]"
            ]
          },
          "metadata": {
            "tags": []
          },
          "execution_count": 234
        }
      ]
    },
    {
      "cell_type": "code",
      "metadata": {
        "colab": {
          "base_uri": "https://localhost:8080/"
        },
        "id": "TvAy3uzl1MHF",
        "outputId": "8b53b085-d10c-4241-f762-6325929cd797"
      },
      "source": [
        "# Set the parity of the message to prepare it for transmission to Alice\n",
        "Bob.set_parity(bob_msg)\n",
        "\n",
        "# View the message block in parity\n",
        "bob_msg"
      ],
      "execution_count": 235,
      "outputs": [
        {
          "output_type": "execute_result",
          "data": {
            "text/plain": [
              "[0 0 1 1 0 1 0 0 0 0 1 0 1 1 0 1]"
            ]
          },
          "metadata": {
            "tags": []
          },
          "execution_count": 235
        }
      ]
    },
    {
      "cell_type": "code",
      "metadata": {
        "colab": {
          "base_uri": "https://localhost:8080/"
        },
        "id": "1eSCyruT1mS8",
        "outputId": "d947e715-c37d-4189-d888-d935e89ea2b5"
      },
      "source": [
        "# Confirm the message is in parity and ready to send\n",
        "bob_msg.ready_to_send()"
      ],
      "execution_count": 236,
      "outputs": [
        {
          "output_type": "execute_result",
          "data": {
            "text/plain": [
              "True"
            ]
          },
          "metadata": {
            "tags": []
          },
          "execution_count": 236
        }
      ]
    },
    {
      "cell_type": "code",
      "metadata": {
        "id": "q55iaoXR14TJ"
      },
      "source": [
        "# Oh no!!! As Bob is sending the message to Alice, a random one bit error accidentally creeps in. \n",
        "# We don't yet know which bit was distorted in the message.\n",
        "error_msg = distort_msg(bob_msg, random=True)\n",
        "Bob.send_message(error_msg, Alice)\n"
      ],
      "execution_count": 237,
      "outputs": []
    },
    {
      "cell_type": "code",
      "metadata": {
        "colab": {
          "base_uri": "https://localhost:8080/"
        },
        "id": "rLPgcIFt3AhY",
        "outputId": "c44bfc23-3fc4-4431-87b2-0d4d4c711626"
      },
      "source": [
        "# View the message with the one bit error\n",
        "error_msg"
      ],
      "execution_count": 238,
      "outputs": [
        {
          "output_type": "execute_result",
          "data": {
            "text/plain": [
              "[0 0 1 1 0 1 0 0 0 1 1 0 1 1 0 1]"
            ]
          },
          "metadata": {
            "tags": []
          },
          "execution_count": 238
        }
      ]
    },
    {
      "cell_type": "code",
      "metadata": {
        "colab": {
          "base_uri": "https://localhost:8080/"
        },
        "id": "oMP-xvac56JM",
        "outputId": "92db3053-f17a-45b5-b517-7aa42ae7efaf"
      },
      "source": [
        "print(f\"Original message:   {bob_msg}\")\n",
        "print(f\"Message with error: {error_msg}\")"
      ],
      "execution_count": 239,
      "outputs": [
        {
          "output_type": "stream",
          "text": [
            "Original message:   [0 0 1 1 0 1 0 0 0 0 1 0 1 1 0 1]\n",
            "Message with error: [0 0 1 1 0 1 0 0 0 1 1 0 1 1 0 1]\n"
          ],
          "name": "stdout"
        }
      ]
    },
    {
      "cell_type": "code",
      "metadata": {
        "colab": {
          "base_uri": "https://localhost:8080/"
        },
        "id": "cd1nVnWY2TN3",
        "outputId": "54860d2e-ffa1-4089-ff90-16656f8295ed"
      },
      "source": [
        "# Confirm the message with the error is no longer the same as the original message Bob intended to send to Alice\n",
        "error_msg == bob_msg"
      ],
      "execution_count": 240,
      "outputs": [
        {
          "output_type": "execute_result",
          "data": {
            "text/plain": [
              "False"
            ]
          },
          "metadata": {
            "tags": []
          },
          "execution_count": 240
        }
      ]
    },
    {
      "cell_type": "code",
      "metadata": {
        "colab": {
          "base_uri": "https://localhost:8080/"
        },
        "id": "ZT9NAS3y3JMR",
        "outputId": "121b383c-036f-4b2c-e91a-358a789a40e8"
      },
      "source": [
        "# confirm Alice received message\n",
        "Alice.received_msg"
      ],
      "execution_count": 241,
      "outputs": [
        {
          "output_type": "execute_result",
          "data": {
            "text/plain": [
              "[0 0 1 1 0 1 0 0 0 1 1 0 1 1 0 1]"
            ]
          },
          "metadata": {
            "tags": []
          },
          "execution_count": 241
        }
      ]
    },
    {
      "cell_type": "code",
      "metadata": {
        "colab": {
          "base_uri": "https://localhost:8080/"
        },
        "id": "_a0IRTVE8W83",
        "outputId": "8ba2ecc9-4beb-462a-bcea-d43c7e1034c1"
      },
      "source": [
        "error_msg == Alice.received_msg"
      ],
      "execution_count": 242,
      "outputs": [
        {
          "output_type": "execute_result",
          "data": {
            "text/plain": [
              "True"
            ]
          },
          "metadata": {
            "tags": []
          },
          "execution_count": 242
        }
      ]
    },
    {
      "cell_type": "code",
      "metadata": {
        "colab": {
          "base_uri": "https://localhost:8080/",
          "height": 35
        },
        "id": "AE_SJjWw3Xcc",
        "outputId": "eed12fe0-af07-4af9-fdbe-0ffade323f91"
      },
      "source": [
        "# Alice scans the message to determine whether an error exists in the message she received from Bob.\n",
        "# If an error is detected, she can identify the location of the error (the error's index in the message)\n",
        "# Keep in mind that throughout this whole process, Alice never sees the \"correct\" message Bob originally meant to send. \n",
        "# She can deduce if there was an error and where it is just by looking at the erroneous message she received \n",
        "\n",
        "Alice.scan(error_msg)"
      ],
      "execution_count": 243,
      "outputs": [
        {
          "output_type": "execute_result",
          "data": {
            "application/vnd.google.colaboratory.intrinsic+json": {
              "type": "string"
            },
            "text/plain": [
              "'Error found at index 9'"
            ]
          },
          "metadata": {
            "tags": []
          },
          "execution_count": 243
        }
      ]
    },
    {
      "cell_type": "code",
      "metadata": {
        "colab": {
          "base_uri": "https://localhost:8080/"
        },
        "id": "bpn_8lAa35HQ",
        "outputId": "e145eb28-8b02-4327-db32-b381dee87740"
      },
      "source": [
        "# Once Alice identifies the location of the error, she corrects it by flipping the bit\n",
        "corrected_msg = Alice.correct_error(error_msg)\n",
        "corrected_msg"
      ],
      "execution_count": 244,
      "outputs": [
        {
          "output_type": "execute_result",
          "data": {
            "text/plain": [
              "[0 0 1 1 0 1 0 0 0 0 1 0 1 1 0 1]"
            ]
          },
          "metadata": {
            "tags": []
          },
          "execution_count": 244
        }
      ]
    },
    {
      "cell_type": "code",
      "metadata": {
        "colab": {
          "base_uri": "https://localhost:8080/"
        },
        "id": "RGyImDIv8s5-",
        "outputId": "4c403e6d-a747-4f8e-fb64-144b1efab55f"
      },
      "source": [
        "print(f\"Original message:         {bob_msg}\")\n",
        "print(f\"Message after correction: {corrected_msg}\")"
      ],
      "execution_count": 245,
      "outputs": [
        {
          "output_type": "stream",
          "text": [
            "Original message:         [0 0 1 1 0 1 0 0 0 0 1 0 1 1 0 1]\n",
            "Message after correction: [0 0 1 1 0 1 0 0 0 0 1 0 1 1 0 1]\n"
          ],
          "name": "stdout"
        }
      ]
    },
    {
      "cell_type": "code",
      "metadata": {
        "colab": {
          "base_uri": "https://localhost:8080/"
        },
        "id": "bTNwRXFv4Fn-",
        "outputId": "91a1c7a0-6585-49c4-d95b-e5571ff0ab96"
      },
      "source": [
        "# Verify if the corrected message is the same as Bob's original message\n",
        "corrected_msg == bob_msg"
      ],
      "execution_count": 246,
      "outputs": [
        {
          "output_type": "execute_result",
          "data": {
            "text/plain": [
              "True"
            ]
          },
          "metadata": {
            "tags": []
          },
          "execution_count": 246
        }
      ]
    },
    {
      "cell_type": "markdown",
      "metadata": {
        "id": "59_FR8k34iS1"
      },
      "source": [
        "## AND THUS (15,11) HUFFMAN ENCODING WORKS   🔥🔥🔥  \t"
      ]
    },
    {
      "cell_type": "code",
      "metadata": {
        "colab": {
          "base_uri": "https://localhost:8080/"
        },
        "id": "nDoNlHtI97a9",
        "outputId": "c1dc96d3-5eb9-4b41-e025-71159a531d24"
      },
      "source": [
        "# Lets try on a 64 bit message\n",
        "\n",
        "bob_msg = np.random.randint(0,2,63)\n",
        "bob_msg = Message(bob_msg)\n",
        "\n",
        "bob_msg\n"
      ],
      "execution_count": 251,
      "outputs": [
        {
          "output_type": "execute_result",
          "data": {
            "text/plain": [
              "[0 1 0 0 1 1 1 1 1 1 0 0 0 0 1 0 0 1 0 1 1 1 0 0 0 1 1 0 1 0 1 0 0 1 0 0 0\n",
              " 0 0 0 1 1 1 0 0 1 0 0 1 1 0 1 1 1 0 1 0 1 0 1 1 1 0 1]"
            ]
          },
          "metadata": {
            "tags": []
          },
          "execution_count": 251
        }
      ]
    },
    {
      "cell_type": "code",
      "metadata": {
        "colab": {
          "base_uri": "https://localhost:8080/"
        },
        "id": "D8HOFsCKAstf",
        "outputId": "ff60cc14-5264-4827-b6ff-67c9499a0158"
      },
      "source": [
        "len(bob_msg.message)"
      ],
      "execution_count": 252,
      "outputs": [
        {
          "output_type": "execute_result",
          "data": {
            "text/plain": [
              "64"
            ]
          },
          "metadata": {
            "tags": []
          },
          "execution_count": 252
        }
      ]
    },
    {
      "cell_type": "code",
      "metadata": {
        "colab": {
          "base_uri": "https://localhost:8080/"
        },
        "id": "_hukp9hk-y_Z",
        "outputId": "078e11ea-4acf-41ed-b69d-e7789b3a22ba"
      },
      "source": [
        "Bob.set_parity(bob_msg)\n",
        "bob_msg.ready_to_send()\n"
      ],
      "execution_count": 253,
      "outputs": [
        {
          "output_type": "execute_result",
          "data": {
            "text/plain": [
              "True"
            ]
          },
          "metadata": {
            "tags": []
          },
          "execution_count": 253
        }
      ]
    },
    {
      "cell_type": "code",
      "metadata": {
        "colab": {
          "base_uri": "https://localhost:8080/"
        },
        "id": "tSQ7GerKBRtE",
        "outputId": "13ffab19-4898-462b-937f-3cf65cd878e1"
      },
      "source": [
        "error_msg = distort_msg(bob_msg)\n",
        "Bob.send_message(error_msg, Alice)\n",
        "\n",
        "error_msg == bob_msg"
      ],
      "execution_count": 258,
      "outputs": [
        {
          "output_type": "execute_result",
          "data": {
            "text/plain": [
              "False"
            ]
          },
          "metadata": {
            "tags": []
          },
          "execution_count": 258
        }
      ]
    },
    {
      "cell_type": "code",
      "metadata": {
        "colab": {
          "base_uri": "https://localhost:8080/"
        },
        "id": "kNd3jLqSAqFw",
        "outputId": "eb57d9fb-996d-4426-a0b3-6ccb3ab225c1"
      },
      "source": [
        "error_msg == Alice.received_msg"
      ],
      "execution_count": 261,
      "outputs": [
        {
          "output_type": "execute_result",
          "data": {
            "text/plain": [
              "True"
            ]
          },
          "metadata": {
            "tags": []
          },
          "execution_count": 261
        }
      ]
    },
    {
      "cell_type": "code",
      "metadata": {
        "colab": {
          "base_uri": "https://localhost:8080/",
          "height": 35
        },
        "id": "AexEZJxYCOr4",
        "outputId": "f2dd316a-aa56-40e3-d76c-bd2bb83ee773"
      },
      "source": [
        "Alice.scan(error_msg)"
      ],
      "execution_count": 262,
      "outputs": [
        {
          "output_type": "execute_result",
          "data": {
            "application/vnd.google.colaboratory.intrinsic+json": {
              "type": "string"
            },
            "text/plain": [
              "'Error found at index 2'"
            ]
          },
          "metadata": {
            "tags": []
          },
          "execution_count": 262
        }
      ]
    },
    {
      "cell_type": "code",
      "metadata": {
        "colab": {
          "base_uri": "https://localhost:8080/"
        },
        "id": "dxXQOUv5Catl",
        "outputId": "b108f037-68b9-47a0-92fe-d9468695f27b"
      },
      "source": [
        "corrected_msg = Alice.correct_error(error_msg)\n",
        "corrected_msg"
      ],
      "execution_count": 263,
      "outputs": [
        {
          "output_type": "execute_result",
          "data": {
            "text/plain": [
              "[0 0 1 0 1 1 1 1 1 1 0 0 0 0 1 0 1 1 0 1 1 1 0 0 0 1 1 0 1 0 1 0 0 1 0 0 0\n",
              " 0 0 0 1 1 1 0 0 1 0 0 1 1 0 1 1 1 0 1 0 1 0 1 1 1 0 1]"
            ]
          },
          "metadata": {
            "tags": []
          },
          "execution_count": 263
        }
      ]
    },
    {
      "cell_type": "code",
      "metadata": {
        "colab": {
          "base_uri": "https://localhost:8080/"
        },
        "id": "VQRrR8-vCe38",
        "outputId": "a385d203-b198-4586-d196-043bf01997a4"
      },
      "source": [
        "corrected_msg == bob_msg"
      ],
      "execution_count": 264,
      "outputs": [
        {
          "output_type": "execute_result",
          "data": {
            "text/plain": [
              "True"
            ]
          },
          "metadata": {
            "tags": []
          },
          "execution_count": 264
        }
      ]
    },
    {
      "cell_type": "code",
      "metadata": {
        "id": "ZZFqMcILCghT"
      },
      "source": [
        ""
      ],
      "execution_count": null,
      "outputs": []
    }
  ]
}